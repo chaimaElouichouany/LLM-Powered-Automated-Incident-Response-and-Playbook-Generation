{
 "cells": [
  {
   "cell_type": "code",
   "execution_count": 24,
   "id": "989ffbc3-8c13-4748-ae44-d2dbd4a2c2b0",
   "metadata": {},
   "outputs": [
    {
     "name": "stdout",
     "output_type": "stream",
     "text": [
      "✅ Bibliothèques importées.\n",
      "✅ Dataset chargé. Il contient 2830743 lignes et 79 colonnes.\n"
     ]
    }
   ],
   "source": [
    "# --- ÉTAPE 1 : IMPORTS ET CHARGEMENT ---\n",
    "\n",
    "# --- 1.1 Chargement des bibliothèques nécessaires ---\n",
    "import pandas as pd\n",
    "import numpy as np\n",
    "import os\n",
    "import glob\n",
    "from sklearn.model_selection import train_test_split\n",
    "from sklearn.preprocessing import StandardScaler, LabelEncoder\n",
    "from sklearn.decomposition import PCA\n",
    "from sklearn.ensemble import RandomForestClassifier\n",
    "from sklearn.metrics import classification_report\n",
    "from imblearn.over_sampling import SMOTE\n",
    "import matplotlib.pyplot as plt\n",
    "import seaborn as sns\n",
    "import warnings\n",
    "warnings.filterwarnings('ignore')\n",
    "\n",
    "print(\"✅ Bibliothèques importées.\")\n",
    "\n",
    "# --- 1.2 Chargement du dataset CIC-IDS2017 ---\n",
    "dataset_path = 'C:/Users/MTechno/Downloads/MachineLearningCVE'\n",
    "csv_files = glob.glob(os.path.join(dataset_path, \"*.csv\"))\n",
    "\n",
    "if not csv_files:\n",
    "    print(\"❌ ERREUR : Aucun fichier CSV trouvé dans le dossier spécifié.\")\n",
    "else:\n",
    "    columns_set = set()\n",
    "    for f in csv_files:\n",
    "        temp_df = pd.read_csv(f, nrows=5)\n",
    "        columns_set.add(tuple(temp_df.columns))\n",
    "    \n",
    "    if len(columns_set) > 1:\n",
    "        print(\"❌ ERREUR : Les fichiers CSV ont des colonnes incohérentes.\")\n",
    "    else:\n",
    "        df = pd.concat((pd.read_csv(f) for f in csv_files), ignore_index=True)\n",
    "        print(f\"✅ Dataset chargé. Il contient {df.shape[0]} lignes et {df.shape[1]} colonnes.\")\n"
   ]
  },
  {
   "cell_type": "code",
   "execution_count": 25,
   "id": "b8ee9802-7030-4fee-91f2-a38a4b505de2",
   "metadata": {},
   "outputs": [
    {
     "name": "stdout",
     "output_type": "stream",
     "text": [
      "Dimensions avant nettoyage : (2830743, 79)\n",
      "✅ Valeurs manquantes remplacées par la médiane.\n",
      "✅ Nettoyage terminé. Dimensions finales : (2522362, 71)\n"
     ]
    }
   ],
   "source": [
    "# --- ÉTAPE 2 : EXPLORATION ET NETTOYAGE ---\n",
    "print(f\"Dimensions avant nettoyage : {df.shape}\")\n",
    "df.columns = df.columns.str.strip()\n",
    "df.replace([np.inf, -np.inf], np.nan, inplace=True)\n",
    "missing_columns = df.columns[df.isna().any()].tolist()\n",
    "if missing_columns:\n",
    "    for col in missing_columns:\n",
    "        df[col].fillna(df[col].median(), inplace=True)\n",
    "    print(\"✅ Valeurs manquantes remplacées par la médiane.\")\n",
    "df.drop_duplicates(inplace=True)\n",
    "cols_to_drop = [col for col in df.columns if df[col].nunique() == 1]\n",
    "if cols_to_drop:\n",
    "    df.drop(columns=cols_to_drop, inplace=True)\n",
    "print(f\"✅ Nettoyage terminé. Dimensions finales : {df.shape}\")\n"
   ]
  },
  {
   "cell_type": "code",
   "execution_count": 26,
   "id": "33b0e908-7731-432f-9125-04ec61013028",
   "metadata": {},
   "outputs": [
    {
     "name": "stdout",
     "output_type": "stream",
     "text": [
      "❌ Labels non mappés détectés : [nan]\n",
      "✅ Lignes avec labels non mappés exclues. Dimensions finales : (2520219, 71)\n",
      "Nouvelle distribution des labels après regroupement :\n",
      "Label\n",
      "BENIGN                  2096484\n",
      "DoS                      193748\n",
      "DDoS                     128016\n",
      "PortScan                  90819\n",
      "Brute Force                9152\n",
      "Bot                        1953\n",
      "Infiltration/Exploit         47\n",
      "Name: count, dtype: int64\n",
      "✅ Labels regroupés et encodés.\n"
     ]
    }
   ],
   "source": [
    "# --- ÉTAPE 3 : REGROUPEMENT DES LABELS ET ENCODAGE ---\n",
    "df['Label'] = df['Label'].str.strip()\n",
    "df['Label'] = df['Label'].str.replace('�', '', regex=False)\n",
    "\n",
    "attack_mapping = {\n",
    "    'BENIGN': 'BENIGN', \n",
    "    'DDoS': 'DDoS', \n",
    "    'PortScan': 'PortScan', \n",
    "    'Bot': 'Bot',\n",
    "    'DoS GoldenEye': 'DoS', 'DoS Hulk': 'DoS', 'DoS Slowhttptest': 'DoS', 'DoS slowloris': 'DoS',\n",
    "    'FTP-Patator': 'Brute Force', 'SSH-Patator': 'Brute Force',\n",
    "    'Web Attack – Brute Force': 'Web Attack', \n",
    "    'Web Attack – XSS': 'Web Attack', \n",
    "    'Web Attack – Sql Injection': 'Web Attack',\n",
    "    'Infiltration': 'Infiltration/Exploit', \n",
    "    'Heartbleed': 'Infiltration/Exploit'\n",
    "}\n",
    "df['Label'] = df['Label'].map(attack_mapping)\n",
    "\n",
    "unmapped_labels = df['Label'][df['Label'].isna()]\n",
    "if not unmapped_labels.empty:\n",
    "    print(f\"❌ Labels non mappés détectés : {unmapped_labels.unique()}\")\n",
    "    df = df.dropna(subset=['Label'])\n",
    "    print(f\"✅ Lignes avec labels non mappés exclues. Dimensions finales : {df.shape}\")\n",
    "\n",
    "print(\"Nouvelle distribution des labels après regroupement :\")\n",
    "print(df['Label'].value_counts())\n",
    "\n",
    "X = df.drop(columns=['Label'])\n",
    "y_temp = df['Label']\n",
    "le = LabelEncoder()\n",
    "y = le.fit_transform(y_temp)\n",
    "print(\"✅ Labels regroupés et encodés.\")"
   ]
  },
  {
   "cell_type": "code",
   "execution_count": 27,
   "id": "52f17c01-8a00-4e03-b252-9a02d192331d",
   "metadata": {
    "scrolled": true
   },
   "outputs": [
    {
     "name": "stdout",
     "output_type": "stream",
     "text": [
      "Taille de l'entraînement : 1764153 échantillons.\n",
      "Taille du test : 756066 échantillons.\n"
     ]
    }
   ],
   "source": [
    "# --- ÉTAPE 4 : SÉPARATION DES DONNÉES ---\n",
    "X_train, X_test, y_train, y_test = train_test_split(X, y, test_size=0.3, random_state=42, stratify=y)\n",
    "print(f\"Taille de l'entraînement : {X_train.shape[0]} échantillons.\")\n",
    "print(f\"Taille du test : {X_test.shape[0]} échantillons.\")\n"
   ]
  },
  {
   "cell_type": "code",
   "execution_count": 28,
   "id": "2f00e922-eddd-4740-92fe-2667e831be51",
   "metadata": {},
   "outputs": [
    {
     "name": "stdout",
     "output_type": "stream",
     "text": [
      "1. Données normalisées.\n"
     ]
    }
   ],
   "source": [
    "# --- ÉTAPE 5 : PRÉTRAITEMENT AVANCÉ ET RÉDUCTION DE DIMENSIONNALITÉ ---\n",
    "scaler = StandardScaler()\n",
    "X_train_scaled = scaler.fit_transform(X_train)\n",
    "X_test_scaled = scaler.transform(X_test)\n",
    "print(\"1. Données normalisées.\")\n"
   ]
  },
  {
   "cell_type": "code",
   "execution_count": 29,
   "id": "cd514f9b-759e-4165-9469-a5ef8c45883a",
   "metadata": {},
   "outputs": [
    {
     "data": {
      "image/png": "[encoded data removed]",
      "text/plain": [
       "<Figure size 800x500 with 1 Axes>"
      ]
     },
     "metadata": {},
     "output_type": "display_data"
    },
    {
     "data": {
      "image/png": "[encoded data removed]",
      "text/plain": [
       "<Figure size 800x500 with 1 Axes>"
      ]
     },
     "metadata": {},
     "output_type": "display_data"
    },
    {
     "name": "stdout",
     "output_type": "stream",
     "text": [
      "✅ Rééchantillonnage SMOTE appliqué.\n",
      "✅ Réduction de dimensionnalité avec PCA appliquée. Nombre de caractéristiques réduit à 4.\n",
      "✅ Modèle entraîné.\n",
      "\n",
      "--- Évaluation du modèle sur les données de test ---\n",
      "                      precision    recall  f1-score   support\n",
      "\n",
      "              BENIGN     0.9992    0.9950    0.9971    628945\n",
      "                 Bot     0.2147    0.9113    0.3475       586\n",
      "         Brute Force     0.9498    0.9931    0.9710      2746\n",
      "                DDoS     0.9978    0.9988    0.9983     38405\n",
      "                 DoS     0.9895    0.9949    0.9922     58124\n",
      "Infiltration/Exploit     0.1000    0.5714    0.1702        14\n",
      "            PortScan     0.9878    0.9956    0.9917     27246\n",
      "\n",
      "            accuracy                         0.9951    756066\n",
      "           macro avg     0.7484    0.9229    0.7811    756066\n",
      "        weighted avg     0.9972    0.9951    0.9959    756066\n",
      "\n"
     ]
    }
   ],
   "source": [
    "# Visualisation : Distribution des classes avant SMOTE\n",
    "distribution_before = pd.Series(y_train).value_counts()\n",
    "plt.figure(figsize=(8, 5))\n",
    "sns.barplot(x=distribution_before.index, y=distribution_before.values, palette=\"viridis\")\n",
    "plt.title(\"Distribution des Classes Avant SMOTE\")\n",
    "plt.xlabel(\"Classes\")\n",
    "plt.ylabel(\"Nombre d'échantillons\")\n",
    "plt.show()\n",
    "\n",
    "smote = SMOTE(random_state=42, n_jobs=-1)\n",
    "X_train_smote, y_train_smote = smote.fit_resample(X_train_scaled, y_train)\n",
    "\n",
    "# Visualisation : Distribution des classes après SMOTE\n",
    "distribution_after = pd.Series(y_train_smote).value_counts()\n",
    "plt.figure(figsize=(8, 5))\n",
    "sns.barplot(x=distribution_after.index, y=distribution_after.values, palette=\"viridis\")\n",
    "plt.title(\"Distribution des Classes Après SMOTE\")\n",
    "plt.xlabel(\"Classes\")\n",
    "plt.ylabel(\"Nombre d'échantillons\")\n",
    "plt.show()\n",
    "\n",
    "print(\"✅ Rééchantillonnage SMOTE appliqué.\")\n",
    "\n",
    "pca = PCA(n_components=0.95, random_state=42)\n",
    "X_train_pca = pca.fit_transform(X_train_smote)\n",
    "X_test_pca = pca.transform(X_test_scaled)\n",
    "print(f\"✅ Réduction de dimensionnalité avec PCA appliquée. Nombre de caractéristiques réduit à {X_train_pca.shape[1]}.\")\n",
    "\n",
    "# --- ÉTAPE 6 : MODÉLISATION ET ÉVALUATION ---\n",
    "model = RandomForestClassifier(n_estimators=100, random_state=42, n_jobs=-1)\n",
    "model.fit(X_train_pca, y_train_smote)\n",
    "print(\"✅ Modèle entraîné.\")\n",
    "\n",
    "y_pred = model.predict(X_test_pca)\n",
    "y_pred_decoded = le.inverse_transform(y_pred)\n",
    "y_test_decoded = le.inverse_transform(y_test)\n",
    "print(\"\\n--- Évaluation du modèle sur les données de test ---\")\n",
    "print(classification_report(y_test_decoded, y_pred_decoded, digits=4))"
   ]
  },
  {
   "cell_type": "code",
   "execution_count": 30,
   "id": "621e5bbc-ad5a-487d-b48e-6edc861faa25",
   "metadata": {},
   "outputs": [
    {
     "name": "stdout",
     "output_type": "stream",
     "text": [
      "✅ Artefacts sauvegardés dans 'pipeline_artefacts.zip'.\n"
     ]
    }
   ],
   "source": [
    "# --- ÉTAPE 7 : SAUVEGARDE DES ARTEFACTS ---\n",
    "import zipfile\n",
    "artefacts = {'Label Encoder': le, 'Scaler': scaler, 'PCA': pca, 'Model': model}\n",
    "zip_filename = 'pipeline_artefacts.zip'\n",
    "with zipfile.ZipFile(zip_filename, 'w') as zipf:\n",
    "    for name, obj in artefacts.items():\n",
    "        filename = f\"{name.replace(' ', '_').lower()}.joblib\"\n",
    "        joblib.dump(obj, filename)\n",
    "        zipf.write(filename)\n",
    "        os.remove(filename)\n",
    "\n",
    "print(f\"✅ Artefacts sauvegardés dans '{zip_filename}'.\")"
   ]
  },
  {
   "cell_type": "code",
   "execution_count": null,
   "id": "730b6c3e-ed7d-4016-9423-72e89a120e31",
   "metadata": {},
   "outputs": [],
   "source": []
  }
 ],
 "metadata": {
  "kernelspec": {
   "display_name": "Python 3 (ipykernel)",
   "language": "python",
   "name": "python3"
  },
  "language_info": {
   "codemirror_mode": {
    "name": "ipython",
    "version": 3
   },
   "file_extension": ".py",
   "mimetype": "text/x-python",
   "name": "python",
   "nbconvert_exporter": "python",
   "pygments_lexer": "ipython3",
   "version": "3.12.7"
  }
 },
 "nbformat": 4,
 "nbformat_minor": 5
}
